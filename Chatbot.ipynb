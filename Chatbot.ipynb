{
  "nbformat": 4,
  "nbformat_minor": 0,
  "metadata": {
    "colab": {
      "provenance": [],
      "authorship_tag": "ABX9TyPBv8D+XxJ37/LgHDvjtNpv",
      "include_colab_link": true
    },
    "kernelspec": {
      "name": "python3",
      "display_name": "Python 3"
    },
    "language_info": {
      "name": "python"
    }
  },
  "cells": [
    {
      "cell_type": "markdown",
      "metadata": {
        "id": "view-in-github",
        "colab_type": "text"
      },
      "source": [
        "<a href=\"https://colab.research.google.com/github/SamaraHGmail/Public_LLM/blob/main/Chatbot.ipynb\" target=\"_parent\"><img src=\"https://colab.research.google.com/assets/colab-badge.svg\" alt=\"Open In Colab\"/></a>"
      ]
    },
    {
      "cell_type": "markdown",
      "source": [
        "Instalando o SDK do Google"
      ],
      "metadata": {
        "id": "j2r7ZHMgFiMW"
      }
    },
    {
      "cell_type": "code",
      "execution_count": null,
      "metadata": {
        "id": "uknmI9SZAwhe"
      },
      "outputs": [],
      "source": [
        "!pip install -q -U google-generativeai"
      ]
    },
    {
      "cell_type": "code",
      "source": [
        "# Import the Python SDK\n",
        "import google.generativeai as genai\n",
        "from google.colab import userdata\n",
        "api_key = userdata.get('SECRET_KEY')\n",
        "\n",
        "genai.configure(api_key=api_key)"
      ],
      "metadata": {
        "id": "nuXn_txWFbYI"
      },
      "execution_count": 16,
      "outputs": []
    },
    {
      "cell_type": "markdown",
      "source": [
        "Listar os modelos disponiveis"
      ],
      "metadata": {
        "id": "dLp3knf7Fmo7"
      }
    },
    {
      "cell_type": "code",
      "source": [
        "for m in genai.list_models():\n",
        "  if 'generateContent' in m.supported_generation_methods:\n",
        "    print(m.name)"
      ],
      "metadata": {
        "colab": {
          "base_uri": "https://localhost:8080/",
          "height": 138
        },
        "id": "Ed1bsO0vFuDL",
        "outputId": "ea7ec032-90ed-49a6-b422-05dec221bfe4"
      },
      "execution_count": null,
      "outputs": [
        {
          "output_type": "stream",
          "name": "stdout",
          "text": [
            "models/gemini-1.0-pro\n",
            "models/gemini-1.0-pro-001\n",
            "models/gemini-1.0-pro-latest\n",
            "models/gemini-1.0-pro-vision-latest\n",
            "models/gemini-1.5-pro-latest\n",
            "models/gemini-pro\n",
            "models/gemini-pro-vision\n"
          ]
        }
      ]
    },
    {
      "cell_type": "code",
      "source": [
        "generation_config = {\n",
        "    \"candidate_count\": 1,\n",
        "    \"temperature\": 0.5,\n",
        "}"
      ],
      "metadata": {
        "id": "FpgiFFtGH-kW"
      },
      "execution_count": null,
      "outputs": []
    },
    {
      "cell_type": "code",
      "source": [
        "safety_settings = {\n",
        "    \"HARASSMENT\": \"BLOCK_NONE\",\n",
        "    \"HATE\": \"BLOCK_NONE\",\n",
        "    \"SEXUAL\" : \"BLOCK_NONE\",\n",
        "    \"DANGEROUS\" : \"BLOCK_NONE\"\n",
        "}"
      ],
      "metadata": {
        "id": "ncd3B6M7IjDB"
      },
      "execution_count": null,
      "outputs": []
    },
    {
      "cell_type": "markdown",
      "source": [
        "Inicializando o modelo"
      ],
      "metadata": {
        "id": "Xaufy9dIJFyl"
      }
    },
    {
      "cell_type": "code",
      "source": [
        "model = genai.GenerativeModel(model_name = \"gemini-1.0-pro\",safety_settings=safety_settings, generation_config=generation_config)"
      ],
      "metadata": {
        "id": "fn0_BaZQJKMT"
      },
      "execution_count": 9,
      "outputs": []
    },
    {
      "cell_type": "code",
      "source": [
        "response = model.generate_content(\"Vamos aprender conteúdos sobre IA. Me dê sugestões.\")\n",
        "print(response.text)"
      ],
      "metadata": {
        "colab": {
          "base_uri": "https://localhost:8080/",
          "height": 783
        },
        "id": "rYEGHAuMKE6w",
        "outputId": "856c2404-68e0-44c7-c883-efa0734f095b"
      },
      "execution_count": 10,
      "outputs": [
        {
          "output_type": "stream",
          "name": "stdout",
          "text": [
            "**Conceitos Fundamentais**\n",
            "\n",
            "* O que é Inteligência Artificial (IA)?\n",
            "* Tipos de IA: Aprendizado de Máquina, Aprendizado Profundo, Processamento de Linguagem Natural\n",
            "* Algoritmos de IA: Regressão, Classificação, Clustering\n",
            "\n",
            "**Aprendizado de Máquina**\n",
            "\n",
            "* Aprendizado Supervisionado: Regressão Linear, Regressão Logística\n",
            "* Aprendizado Não Supervisionado: K-Means, PCA\n",
            "* Modelos de Aprendizado de Máquina: Árvores de Decisão, Redes Neurais\n",
            "\n",
            "**Aprendizado Profundo**\n",
            "\n",
            "* Redes Neurais Artificiais (ANNs)\n",
            "* Redes Neurais Convolucionais (CNNs)\n",
            "* Redes Neurais Recorrentes (RNNs)\n",
            "\n",
            "**Processamento de Linguagem Natural (PNL)**\n",
            "\n",
            "* Tokenização e Stemming\n",
            "* Modelagem de Tópicos\n",
            "* Análise de Sentimento\n",
            "\n",
            "**Aplicações de IA**\n",
            "\n",
            "* Reconhecimento de Imagem e Vídeo\n",
            "* Processamento de Linguagem Natural\n",
            "* Diagnóstico Médico\n",
            "* Veículos Autônomos\n",
            "* Automação de Processos\n",
            "\n",
            "**Ética e Implicações Sociais da IA**\n",
            "\n",
            "* Viés e Discriminação em Algoritmos de IA\n",
            "* Desemprego Tecnológico\n",
            "* Privacidade e Vigilância\n",
            "\n",
            "**Recursos de Aprendizagem**\n",
            "\n",
            "* Cursos online: Coursera, edX, Udemy\n",
            "* Livros: \"Inteligência Artificial: Uma Abordagem Moderna\" (Stuart Russell e Peter Norvig), \"Aprendizado de Máquina\" (Ethem Alpaydin)\n",
            "* Comunidades online: Stack Overflow, Reddit (r/machinelearning, r/deeplearning)\n"
          ]
        }
      ]
    },
    {
      "cell_type": "code",
      "source": [
        "chat = model.start_chat(history=[])"
      ],
      "metadata": {
        "id": "heGdZE2AKRs6"
      },
      "execution_count": 12,
      "outputs": []
    },
    {
      "cell_type": "markdown",
      "source": [],
      "metadata": {
        "id": "KieVJPFlJzYa"
      }
    },
    {
      "cell_type": "code",
      "source": [
        "prompt = input(\"Esperando um prompt: \")\n",
        "\n",
        "while prompt != \"fim\":\n",
        "  response = chat.send_message(prompt)\n",
        "\n",
        "  print(\"Resposta: \", response.text, \"\\n\")\n",
        "  prompt = input(\"Esperando um prompt: \")"
      ],
      "metadata": {
        "colab": {
          "base_uri": "https://localhost:8080/",
          "height": 627
        },
        "id": "ymr_c0Q_KlKm",
        "outputId": "b4b8bf77-df43-4b0e-d93a-ddba1bbd188f"
      },
      "execution_count": 15,
      "outputs": [
        {
          "name": "stdout",
          "output_type": "stream",
          "text": [
            "Esperando um prompt: Qual é a capital dos Estados Unidos?\n",
            "Resposta:  Washington, D.C. \n",
            "\n",
            "Esperando um prompt: qual é a comida típica dos Estados Unidos?\n",
            "Resposta:  Hambúrguer\n",
            "\n",
            "Outros pratos típicos incluem:\n",
            "\n",
            "* Pizza\n",
            "* Cachorro-quente\n",
            "* Mac and cheese\n",
            "* Frango frito\n",
            "* Costelinha de porco\n",
            "* Torta de maçã\n",
            "* Milkshake \n",
            "\n",
            "Esperando um prompt: meu primo nasceu lá, qual a nacionalidade dele?\n",
            "Resposta:  Americana\n",
            "\n",
            "Pessoas nascidas nos Estados Unidos são consideradas cidadãs americanas por nascimento, independentemente da nacionalidade de seus pais. \n",
            "\n",
            "Esperando um prompt: qual é o tamanho desse país?\n",
            "Resposta:  **Área total:** 9.833.517 km²\n",
            "\n",
            "**Classificação mundial:** 3º maior país do mundo em área total\n",
            "\n",
            "**Comparação:**\n",
            "\n",
            "* Ligeiramente menor que a China\n",
            "* Aproximadamente 2,5 vezes o tamanho da Índia\n",
            "* Cerca de 40 vezes o tamanho do Reino Unido\n",
            "* Mais de 100 vezes o tamanho da Alemanha \n",
            "\n",
            "Esperando um prompt: fim\n"
          ]
        }
      ]
    }
  ]
}